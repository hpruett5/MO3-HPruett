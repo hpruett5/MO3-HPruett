{
 "cells": [
  {
   "cell_type": "markdown",
   "id": "8fa83ee9-2915-412a-b007-bd848b4a2daf",
   "metadata": {},
   "source": [
    "MO3 Lab Case Study "
   ]
  },
  {
   "cell_type": "code",
   "execution_count": 21,
   "id": "08d36f73-27ac-401d-9d05-16c1ebbbdb7f",
   "metadata": {},
   "outputs": [
    {
     "name": "stdout",
     "output_type": "stream",
     "text": [
      "Enter car year:  2022\n",
      "Enter the make/brand of your car :  Toyota\n",
      "Enter the model of your car :  Corolla\n",
      "Enter the numbers of doors (2 or 4) :  4\n",
      "Enter the type of roof (solid or sun roof) :  sun roof\n"
     ]
    },
    {
     "name": "stdout",
     "output_type": "stream",
     "text": [
      "Car Information:\n",
      "Vehicle type:  car\n",
      "Year:  2022\n",
      "Make:  Toyota\n",
      "Model:  Corolla\n",
      "Number of doors:  4\n",
      "Type of roof:  sun roof\n"
     ]
    }
   ],
   "source": [
    "#MO3 Lab Case Study HPruett\n",
    "#Hannah Pruett\n",
    "#04-02-2025\n",
    "#This program contains two classes, Vehicle(parent) and Automobile. Automobile inherits attributes from Vehicle such as \n",
    "#year, make, model, doors, and roof type. This program accepts user input for a car and stores the car into the Vehicle super class. \n",
    "#Lastly, the program prints the information when car is called. \n",
    "\n",
    "#create parent class that stores types of vehicles\n",
    "class Vehicle:\n",
    "    def __init__(self, vehicle_type):\n",
    "        self.vehicle_type = vehicle_type\n",
    "\n",
    "#create class that stores information for different types of vehicles\n",
    "class Automobile(Vehicle):\n",
    "    def __init__(self, vehicle_type, year, make, model, doors, roof):\n",
    "        super().__init__(vehicle_type)\n",
    "        self.year = year\n",
    "        self.make = make\n",
    "        self.model = model\n",
    "        self.doors = doors\n",
    "        self.roof = roof\n",
    "\n",
    "#create function to accept user input for car information and store information \n",
    "def create_car():\n",
    "    vehicle_type = \"car\"\n",
    "    year = input(\"Enter car year: \")\n",
    "    make = input(\"Enter the make/brand of your car : \")\n",
    "    model = input(\"Enter the model of your car : \")\n",
    "    doors = input(\"Enter the numbers of doors (2 or 4) : \")\n",
    "    roof = input(\"Enter the type of roof (solid or sun roof) : \")\n",
    "    car = Automobile(vehicle_type, year, make, model, doors, roof)\n",
    "    return car\n",
    "\n",
    "#create function to neatly display user input from create_car function\n",
    "def display_car(car):\n",
    "    print(\"Vehicle type: \", car.vehicle_type)\n",
    "    print(\"Year: \", car.year)\n",
    "    print (\"Make: \", car.make)\n",
    "    print(\"Model: \", car.model)\n",
    "    print(\"Number of doors: \", car.doors)\n",
    "    print(\"Type of roof: \", car.roof)\n",
    "\n",
    "#call the functions\n",
    "\n",
    "car = create_car()\n",
    "print(\"Car Information:\")\n",
    "display_car(car)"
   ]
  },
  {
   "cell_type": "code",
   "execution_count": null,
   "id": "9962a4e2-be5a-47f6-a957-888aae2e39c7",
   "metadata": {},
   "outputs": [],
   "source": []
  }
 ],
 "metadata": {
  "kernelspec": {
   "display_name": "Python [conda env:base] *",
   "language": "python",
   "name": "conda-base-py"
  },
  "language_info": {
   "codemirror_mode": {
    "name": "ipython",
    "version": 3
   },
   "file_extension": ".py",
   "mimetype": "text/x-python",
   "name": "python",
   "nbconvert_exporter": "python",
   "pygments_lexer": "ipython3",
   "version": "3.12.7"
  }
 },
 "nbformat": 4,
 "nbformat_minor": 5
}
