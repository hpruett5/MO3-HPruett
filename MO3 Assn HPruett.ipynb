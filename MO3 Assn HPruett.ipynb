{
 "cells": [
  {
   "cell_type": "code",
   "execution_count": 31,
   "id": "12218c10-e885-43bd-bd60-b0b9b5ea827c",
   "metadata": {},
   "outputs": [
    {
     "data": {
      "text/plain": [
       "'mozzarella, cinderella, salmonella'"
      ]
     },
     "execution_count": 31,
     "metadata": {},
     "output_type": "execute_result"
    }
   ],
   "source": [
    "#7.4 Task: make a list called \"things\" with three strings as elements \"mozzarella\", \"cinderella\", \"salmonella\"\n",
    "things = [\"mozzarella\", \"cinderella\", \"salmonella\"]\n",
    "', '.join(things)"
   ]
  },
  {
   "cell_type": "code",
   "execution_count": 33,
   "id": "0bb0f092-1948-4e47-83f0-49222eec84a1",
   "metadata": {},
   "outputs": [
    {
     "data": {
      "text/plain": [
       "'mozzarella, Cinderella, salmonella'"
      ]
     },
     "execution_count": 33,
     "metadata": {},
     "output_type": "execute_result"
    }
   ],
   "source": [
    "#7.5 Task: capitalize the element in \"things\" that refers to a person. Then print the list\n",
    "things = [\"mozzarella\", \"cinderella\", \"salmonella\"]\n",
    "things[1] = \"Cinderella\"\n",
    "', '.join(things)"
   ]
  },
  {
   "cell_type": "code",
   "execution_count": 35,
   "id": "fd5660f8-3d46-4208-8108-37688af20ff4",
   "metadata": {},
   "outputs": [
    {
     "data": {
      "text/plain": [
       "'MOZZARELLA, Cinderella, salmonella'"
      ]
     },
     "execution_count": 35,
     "metadata": {},
     "output_type": "execute_result"
    }
   ],
   "source": [
    "#7.6 Task: make the cheesy element of \"things\" all uppercase and then print the list\n",
    "things = [\"mozzarella\", \"cinderella\", \"salmonella\"]\n",
    "things[1] = \"Cinderella\"\n",
    "things[0] = things[0].upper()\n",
    "', '.join(things)"
   ]
  },
  {
   "cell_type": "code",
   "execution_count": 37,
   "id": "d7442415-3971-4334-bcd0-615dc0d3a3b1",
   "metadata": {},
   "outputs": [
    {
     "name": "stdout",
     "output_type": "stream",
     "text": [
      "Congratulations on your cheesy Nobel Prize!\n"
     ]
    },
    {
     "data": {
      "text/plain": [
       "'MOZZARELLA, Cinderella'"
      ]
     },
     "execution_count": 37,
     "metadata": {},
     "output_type": "execute_result"
    }
   ],
   "source": [
    "#7.7 Task: delete the disease element from \"things\", collect your Nobel Prize, and print the list\n",
    "things = [\"mozzarella\", \"cinderella\", \"salmonella\"]\n",
    "things[1] = \"Cinderella\"\n",
    "things[0] = things[0].upper()\n",
    "del things[2]\n",
    "print (\"Congratulations on your cheesy Nobel Prize!\")\n",
    "', '.join(things)"
   ]
  },
  {
   "cell_type": "code",
   "execution_count": 47,
   "id": "c764dac2-de9a-47de-a562-d8088db496e5",
   "metadata": {},
   "outputs": [
    {
     "name": "stdout",
     "output_type": "stream",
     "text": [
      "['Harry', 'Ron', 'Hermione']\n"
     ]
    }
   ],
   "source": [
    "#9.1 Task: define a function called good() that returns the following list: [\"Harry, \"Ron\", \"Hermione\"]\n",
    "def good():\n",
    "    return [\"Harry\", \"Ron\", \"Hermione\"]\n",
    "print(good())"
   ]
  },
  {
   "cell_type": "code",
   "execution_count": 51,
   "id": "85c0bf55-03c4-4d87-96ec-6273f9d67775",
   "metadata": {},
   "outputs": [
    {
     "name": "stdout",
     "output_type": "stream",
     "text": [
      "5\n"
     ]
    }
   ],
   "source": [
    "#9.2 Task: define a generator function called get_odds() that returns the odd numbers from range(10)\n",
    "# use a for loop to find and print the third value returned\n",
    "def get_odds():\n",
    "    for number in range(10):\n",
    "        if number %2 != 0:\n",
    "            yield number\n",
    "\n",
    "count = 0 \n",
    "for odd_number in get_odds():\n",
    "    count += 1\n",
    "    if count == 3:\n",
    "        print (odd_number)\n",
    "        break\n",
    "        "
   ]
  }
 ],
 "metadata": {
  "kernelspec": {
   "display_name": "Python [conda env:base] *",
   "language": "python",
   "name": "conda-base-py"
  },
  "language_info": {
   "codemirror_mode": {
    "name": "ipython",
    "version": 3
   },
   "file_extension": ".py",
   "mimetype": "text/x-python",
   "name": "python",
   "nbconvert_exporter": "python",
   "pygments_lexer": "ipython3",
   "version": "3.12.7"
  }
 },
 "nbformat": 4,
 "nbformat_minor": 5
}
