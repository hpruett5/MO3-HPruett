{
 "cells": [
  {
   "cell_type": "markdown",
   "id": "f92f3669-9af0-4129-a48b-98c0e858da9e",
   "metadata": {},
   "source": [
    "Sort 0s, 1s, 2s from an array "
   ]
  },
  {
   "cell_type": "code",
   "execution_count": 10,
   "id": "72c7324d-a40d-4918-8f29-49b46a2ccd24",
   "metadata": {},
   "outputs": [
    {
     "name": "stdout",
     "output_type": "stream",
     "text": [
      "0 0 0 1 1 1 2 2 2 "
     ]
    }
   ],
   "source": [
    "#defines function to sort an array when called. This function reads the array, creates count of 0s, 1s, and 2s, and sorts\n",
    "# them in ascending order\n",
    "def sort012(arr):\n",
    "        c0 = 0\n",
    "        c1 = 0\n",
    "        c2 = 0\n",
    "        \n",
    "        for num in arr:\n",
    "            if num == 0:\n",
    "                c0 +=1\n",
    "            elif num == 1:\n",
    "                c1 += 1\n",
    "            else:\n",
    "                c2 += 1\n",
    "        \n",
    "        idx = 0\n",
    "        \n",
    "        for i in range(c0):\n",
    "            arr[idx] = 0\n",
    "            idx += 1\n",
    "            \n",
    "        for i in range(c1):\n",
    "            arr[idx] = 1\n",
    "            idx += 1\n",
    "        \n",
    "        for i in range(c2):\n",
    "            arr[idx] = 2\n",
    "            idx += 1\n",
    "\n",
    "# establishes the array\n",
    "arr = [0,1,2,0,1,2,0,1,2]\n",
    "\n",
    "#calls the function\n",
    "sort012(arr)\n",
    "    \n",
    "for x in arr:\n",
    "    print(x, end = \" \")"
   ]
  },
  {
   "cell_type": "markdown",
   "id": "754f5d25-1406-4c48-b946-c30ae933a125",
   "metadata": {},
   "source": [
    "Binary Search"
   ]
  },
  {
   "cell_type": "code",
   "execution_count": 65,
   "id": "d7bf2ad1-9038-4d18-ab65-da8ced2406ca",
   "metadata": {},
   "outputs": [
    {
     "name": "stdout",
     "output_type": "stream",
     "text": [
      "Element is present at index 3\n"
     ]
    }
   ],
   "source": [
    "# Binary Search Function\n",
    "# It returns the index of k in given array if it is present, if it is not present, it returns -1\n",
    "\n",
    "def binarysearch(arr, k):\n",
    "    low = 0\n",
    "    high = len(arr) - 1\n",
    "    mid = 0\n",
    "\n",
    "    while low <= high:\n",
    "\n",
    "        mid = (high + low) // 2\n",
    "\n",
    "        # tests if mid is >  k\n",
    "        if arr[mid] < k:\n",
    "            low = mid + 1\n",
    "\n",
    "        # tests if mid is < k\n",
    "        elif arr[mid] > k:\n",
    "            high = mid - 1\n",
    "\n",
    "        # means x is present at mid\n",
    "        else:\n",
    "            return mid\n",
    "\n",
    "    # If element is not in array, return -1\n",
    "    return -1\n",
    "\n",
    "\n",
    "# Test array\n",
    "arr = [1,2,3,4,5]\n",
    "k = 4\n",
    "\n",
    "# Function call\n",
    "result = binarysearch(arr, k)\n",
    "\n",
    "if result != -1:\n",
    "    print(\"Element is present at index\", str(result))\n",
    "else:\n",
    "    print(\"Element is not present in array\")"
   ]
  }
 ],
 "metadata": {
  "kernelspec": {
   "display_name": "Python [conda env:base] *",
   "language": "python",
   "name": "conda-base-py"
  },
  "language_info": {
   "codemirror_mode": {
    "name": "ipython",
    "version": 3
   },
   "file_extension": ".py",
   "mimetype": "text/x-python",
   "name": "python",
   "nbconvert_exporter": "python",
   "pygments_lexer": "ipython3",
   "version": "3.12.7"
  }
 },
 "nbformat": 4,
 "nbformat_minor": 5
}
